{
 "cells": [
  {
   "cell_type": "code",
   "execution_count": null,
   "metadata": {},
   "outputs": [],
   "source": [
    "import cv2\n",
    "import numpy as np\n",
    "import dlib"
   ]
  },
  {
   "cell_type": "code",
   "execution_count": null,
   "metadata": {},
   "outputs": [],
   "source": [
    "img = cv2.imread(\"2.PNG\")\n",
    "img = cv2.resize(img, (0,0), None, 0.5, 0.5)\n",
    "imgOriginal = img.copy()\n",
    "# cv2.imshow(\"Original\", imgOriginal)\n",
    "# cv2.waitKey(0)"
   ]
  },
  {
   "cell_type": "code",
   "execution_count": null,
   "metadata": {},
   "outputs": [],
   "source": [
    "detector = dlib.get_frontal_face_detector()\n",
    "imgGray = cv2.cvtColor(img, cv2.COLOR_BGR2GRAY)\n",
    "faces = detector(imgGray)"
   ]
  },
  {
   "cell_type": "code",
   "execution_count": null,
   "metadata": {},
   "outputs": [],
   "source": [
    "predictor = dlib.shape_predictor(\"shape_predictor_68_face_landmarks.dat\")"
   ]
  },
  {
   "cell_type": "code",
   "execution_count": null,
   "metadata": {},
   "outputs": [],
   "source": [
    "def empty(a):\n",
    "    pass\n",
    "cv2.namedWindow(\"BGR\")\n",
    "cv2.resizeWindow(\"BGR\", 640, 340)\n",
    "cv2.createTrackbar(\"Blue\", \"BGR\", 0, 255, empty)\n",
    "cv2.createTrackbar(\"Green\", \"BGR\", 0, 255, empty)\n",
    "cv2.createTrackbar(\"Red\", \"BGR\", 0, 255, empty)"
   ]
  },
  {
   "cell_type": "code",
   "execution_count": 14,
   "metadata": {},
   "outputs": [],
   "source": [
    "def create_box(img, points, scale = 5, masked = False, cropped = True): # by default, scale = 5, masked = False, cropped = True\n",
    "        if(masked):\n",
    "                mask = np.zeros_like(img)\n",
    "                mask = cv2.fillPoly(mask, [points], (255, 255, 255))\n",
    "                img = cv2.bitwise_and(img, mask)\n",
    "                # cv2.imshow(\"Mask\", mask)\n",
    "                # cv2.waitKey(0)\n",
    "        if(cropped):\n",
    "                bounding_box = cv2.boundingRect(points)\n",
    "                x, y, w, h = bounding_box\n",
    "                img_crop = img[y: y+h, x: x+w]\n",
    "                img_crop = cv2.resize(img_crop, (0,0), None, scale, scale)\n",
    "                return img_crop\n",
    "        else:\n",
    "                return mask\n"
   ]
  },
  {
   "cell_type": "code",
   "execution_count": 15,
   "metadata": {},
   "outputs": [
    {
     "name": "stdout",
     "output_type": "stream",
     "text": [
      "[[ 96 272]\n",
      " [ 96 310]\n",
      " [ 98 349]\n",
      " [105 385]\n",
      " [119 419]\n",
      " [141 446]\n",
      " [172 469]\n",
      " [206 487]\n",
      " [245 494]\n",
      " [286 491]\n",
      " [319 473]\n",
      " [348 450]\n",
      " [369 423]\n",
      " [384 391]\n",
      " [391 357]\n",
      " [395 320]\n",
      " [397 284]\n",
      " [116 252]\n",
      " [133 225]\n",
      " [164 217]\n",
      " [196 222]\n",
      " [225 236]\n",
      " [274 238]\n",
      " [302 227]\n",
      " [333 224]\n",
      " [362 232]\n",
      " [379 257]\n",
      " [249 261]\n",
      " [248 284]\n",
      " [247 306]\n",
      " [246 329]\n",
      " [210 344]\n",
      " [227 349]\n",
      " [246 355]\n",
      " [264 350]\n",
      " [282 345]\n",
      " [152 263]\n",
      " [169 253]\n",
      " [190 254]\n",
      " [209 269]\n",
      " [189 272]\n",
      " [167 272]\n",
      " [288 272]\n",
      " [309 260]\n",
      " [330 260]\n",
      " [345 272]\n",
      " [331 279]\n",
      " [309 278]\n",
      " [185 387]\n",
      " [207 376]\n",
      " [229 370]\n",
      " [245 373]\n",
      " [260 370]\n",
      " [283 377]\n",
      " [306 388]\n",
      " [284 410]\n",
      " [263 418]\n",
      " [246 419]\n",
      " [229 417]\n",
      " [206 407]\n",
      " [195 388]\n",
      " [229 385]\n",
      " [245 387]\n",
      " [261 385]\n",
      " [296 389]\n",
      " [261 392]\n",
      " [245 394]\n",
      " [229 392]]\n"
     ]
    },
    {
     "ename": "",
     "evalue": "",
     "output_type": "error",
     "traceback": [
      "\u001b[1;31mThe Kernel crashed while executing code in the the current cell or a previous cell. Please review the code in the cell(s) to identify a possible cause of the failure. Click <a href='https://aka.ms/vscodeJupyterKernelCrash'>here</a> for more info. View Jupyter <a href='command:jupyter.viewOutput'>log</a> for further details."
     ]
    }
   ],
   "source": [
    "for face in faces:\n",
    "    x1, y1 = face.left(), face.top()\n",
    "    x2, y2 = face.right(), face.bottom()\n",
    "    imgOriginal = cv2.rectangle(img, (x1, y1), (x2, y2), (0, 255, 0), 2)\n",
    "    landmarks = predictor(imgGray, face)\n",
    "    myPoints = []\n",
    "    for n in range(68): # among 68 face landmarks\n",
    "        x = landmarks.part(n).x\n",
    "        y = landmarks.part(n).y\n",
    "        myPoints.append([x, y])\n",
    "        # cv2.circle(imgOriginal,  (x,y), 5, (50, 50, 255), cv2.FILLED)\n",
    "        # cv2.putText(imgOriginal, str(n), (x, y - 10), cv2.FONT_HERSHEY_COMPLEX_SMALL, 0.8, (0, 0, 255), 1 ) # y-10 for little bit higher in y, # 0.8 is scale, # thickness is 1\n",
    "    \n",
    "    myPoints = np.array(myPoints)\n",
    "    # for left eyes\n",
    "    # img_left_eye = create_box(img, myPoints[36: 42]) # as in our predictor 36-41 belongs to left eye\n",
    "    # cv2.imshow(\"left_eye\", img_left_eye)\n",
    "    # cv2.waitKey(0)\n",
    "\n",
    "    # for lips\n",
    "    img_lips = create_box(img, myPoints[48: 61], 3, masked = True) # black bg and untouched lips(pink original color)\n",
    "    # img_lips = create_box(img, myPoints[48: 61], 3, masked = True, cropped = False) # black bg and white lips only\n",
    "    cv2.imshow(\"lips\", img_lips)\n",
    "    # cv2.waitKey(0)\n",
    "    # to color lips \n",
    "    img_color_lips = np.zeros_like(img_lips)\n",
    "    \n",
    "    b = cv2.getTrackbarPos('Blue', 'BGR')\n",
    "    g = cv2.getTrackbarPos('Green', 'BGR')\n",
    "    r = cv2.getTrackbarPos('Red', 'BGR')\n",
    "    \n",
    "    img_color_lips[:] = r, g, b\n",
    "    img_color_lips = cv2.bitwise_and(img_lips, img_color_lips)\n",
    "    # adding blurr to lips to make it more natural like\n",
    "    img_color_lips = cv2.GaussianBlur(img_color_lips, (7, 7), 10)\n",
    "    img_original_gray = cv2.cvtColor(imgOriginal, cv2.COLOR_BGR2GRAY)\n",
    "    # img_original_gray = cv2.cvtColor(img_original_gray, cv2.COLOR_GRAY2BGR)\n",
    "    # img_color_lips = cv2.addWeighted(imgOriginal, 1, img_color_lips, 0.4, 0) \n",
    "    # img_color_lips = cv2.addWeighted(img_original_gray, 1, img_color_lips, 0.4, 0) \n",
    "    cv2.imshow(\"BGR\", img_color_lips)\n",
    "\n",
    "    cv2.imshow(\"Original\", imgOriginal)\n",
    "    cv2.waitKey(0)\n",
    "    print(myPoints)"
   ]
  },
  {
   "cell_type": "code",
   "execution_count": null,
   "metadata": {},
   "outputs": [],
   "source": []
  },
  {
   "cell_type": "code",
   "execution_count": 8,
   "metadata": {},
   "outputs": [
    {
     "data": {
      "text/plain": [
       "-1"
      ]
     },
     "execution_count": 8,
     "metadata": {},
     "output_type": "execute_result"
    }
   ],
   "source": [
    "cv2.imshow(\"Original\", imgOriginal)\n",
    "cv2.waitKey(0)"
   ]
  },
  {
   "cell_type": "code",
   "execution_count": 14,
   "metadata": {},
   "outputs": [
    {
     "data": {
      "text/plain": [
       "-1"
      ]
     },
     "execution_count": 14,
     "metadata": {},
     "output_type": "execute_result"
    }
   ],
   "source": []
  },
  {
   "cell_type": "code",
   "execution_count": null,
   "metadata": {},
   "outputs": [],
   "source": []
  }
 ],
 "metadata": {
  "kernelspec": {
   "display_name": "Python 3",
   "language": "python",
   "name": "python3"
  },
  "language_info": {
   "codemirror_mode": {
    "name": "ipython",
    "version": 3
   },
   "file_extension": ".py",
   "mimetype": "text/x-python",
   "name": "python",
   "nbconvert_exporter": "python",
   "pygments_lexer": "ipython3",
   "version": "3.9.6"
  },
  "orig_nbformat": 4
 },
 "nbformat": 4,
 "nbformat_minor": 2
}
